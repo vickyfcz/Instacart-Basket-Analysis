{
 "cells": [
  {
   "cell_type": "markdown",
   "id": "faf1ce48-252e-4e49-8e71-0a396c0ffb72",
   "metadata": {},
   "source": [
    "# Contents\n",
    "    1 Importing Libraries\n",
    "    2 Python Data Types questions:\n",
    "        7.Code 3 different ways of reaching a result of 100 by adding or subtracting numeric variables.\n",
    "        8. Code 2 floating-point variables and divide them by each other.\n",
    "        9. Construct a short word made of separate strings.\n",
    "        10. Construct 2 short sentences made of separate strings."
   ]
  },
  {
   "cell_type": "markdown",
   "id": "f09893d9-0814-48b7-adf0-ae4d5ce9ce01",
   "metadata": {},
   "source": [
    "# 1 Importing Libraries"
   ]
  },
  {
   "cell_type": "code",
   "execution_count": 2,
   "id": "59b86103-d6da-4f19-ad17-ed44dafe23e4",
   "metadata": {},
   "outputs": [],
   "source": [
    "# Import libraries\n",
    "import pandas as pd\n",
    "import numpy as np\n",
    "import os"
   ]
  },
  {
   "cell_type": "markdown",
   "id": "5e8d58c3-9da4-4136-a72e-002cccb52e02",
   "metadata": {},
   "source": [
    "## 2 Python data types"
   ]
  },
  {
   "cell_type": "markdown",
   "id": "b18e64b3-d795-4024-9f97-cb4c68a5beba",
   "metadata": {},
   "source": [
    "## 7. Code 3 different ways of reaching a result of 100 by adding or subtracting numeric variables"
   ]
  },
  {
   "cell_type": "code",
   "execution_count": 4,
   "id": "20e644b4-9b1c-47f8-be6d-6e84f41857eb",
   "metadata": {},
   "outputs": [],
   "source": [
    "x = 2"
   ]
  },
  {
   "cell_type": "code",
   "execution_count": 5,
   "id": "f0254ccc-799f-40a2-b8eb-7e7188fb0145",
   "metadata": {},
   "outputs": [],
   "source": [
    "y = 50"
   ]
  },
  {
   "cell_type": "code",
   "execution_count": 6,
   "id": "84a7dd23-d65a-4fd5-b4e0-69651ed8ff55",
   "metadata": {},
   "outputs": [
    {
     "data": {
      "text/plain": [
       "100"
      ]
     },
     "execution_count": 6,
     "metadata": {},
     "output_type": "execute_result"
    }
   ],
   "source": [
    "x * y"
   ]
  },
  {
   "cell_type": "code",
   "execution_count": 7,
   "id": "242e6243-5cb4-4428-b1c3-b90ac900434b",
   "metadata": {},
   "outputs": [],
   "source": [
    "x = x + 100"
   ]
  },
  {
   "cell_type": "code",
   "execution_count": 8,
   "id": "60f705a1-e98e-4ed0-8f99-9f63e7ae5bd5",
   "metadata": {},
   "outputs": [
    {
     "data": {
      "text/plain": [
       "100"
      ]
     },
     "execution_count": 8,
     "metadata": {},
     "output_type": "execute_result"
    }
   ],
   "source": [
    "x - 2"
   ]
  },
  {
   "cell_type": "code",
   "execution_count": 9,
   "id": "ae13037f-5a41-4515-8efe-9e58e2039127",
   "metadata": {},
   "outputs": [
    {
     "data": {
      "text/plain": [
       "100"
      ]
     },
     "execution_count": 9,
     "metadata": {},
     "output_type": "execute_result"
    }
   ],
   "source": [
    "y + 50"
   ]
  },
  {
   "cell_type": "markdown",
   "id": "e7c0f52c-d467-4b26-a33d-1baa834029fc",
   "metadata": {},
   "source": [
    "## 8. Code 2 floating-point variables and divide them by each other."
   ]
  },
  {
   "cell_type": "code",
   "execution_count": 10,
   "id": "48bb9494-e800-432c-bf7a-507bec922376",
   "metadata": {},
   "outputs": [],
   "source": [
    "x = x - 72.78"
   ]
  },
  {
   "cell_type": "code",
   "execution_count": 11,
   "id": "96eb362f-4f62-4e6f-8c86-587e2bfa7378",
   "metadata": {},
   "outputs": [
    {
     "name": "stdout",
     "output_type": "stream",
     "text": [
      "29.22\n"
     ]
    }
   ],
   "source": [
    "print (x)"
   ]
  },
  {
   "cell_type": "code",
   "execution_count": 12,
   "id": "8c0f5895-b132-469d-924c-814c90b6a0e8",
   "metadata": {},
   "outputs": [],
   "source": [
    "y = y - 22.64"
   ]
  },
  {
   "cell_type": "code",
   "execution_count": 13,
   "id": "0013c224-08bb-4867-bc26-18e8b7f0cf73",
   "metadata": {},
   "outputs": [
    {
     "name": "stdout",
     "output_type": "stream",
     "text": [
      "27.36\n"
     ]
    }
   ],
   "source": [
    "print(y)"
   ]
  },
  {
   "cell_type": "code",
   "execution_count": 15,
   "id": "53404f46-3a83-4e62-ace9-1481a85708b3",
   "metadata": {},
   "outputs": [
    {
     "data": {
      "text/plain": [
       "1.0679824561403508"
      ]
     },
     "execution_count": 15,
     "metadata": {},
     "output_type": "execute_result"
    }
   ],
   "source": [
    "x / y"
   ]
  },
  {
   "cell_type": "markdown",
   "id": "43c67c75-2cd0-4b2a-b303-b47a31d220da",
   "metadata": {},
   "source": [
    "## 9. Construct a short word made of separate strings."
   ]
  },
  {
   "cell_type": "code",
   "execution_count": 16,
   "id": "a4f7224b-23d6-45e2-a5f8-73065297baba",
   "metadata": {},
   "outputs": [],
   "source": [
    "# 9. Construct a short word made of separate strings.\n",
    "a = 'Spider'"
   ]
  },
  {
   "cell_type": "code",
   "execution_count": 17,
   "id": "15af718d-a912-4cfe-b76f-09340973d705",
   "metadata": {},
   "outputs": [],
   "source": [
    "b = 'man'"
   ]
  },
  {
   "cell_type": "code",
   "execution_count": 18,
   "id": "2295c13b-4c25-4b74-9956-7e719c145b19",
   "metadata": {},
   "outputs": [
    {
     "data": {
      "text/plain": [
       "'Spiderman'"
      ]
     },
     "execution_count": 18,
     "metadata": {},
     "output_type": "execute_result"
    }
   ],
   "source": [
    "a + b"
   ]
  },
  {
   "cell_type": "code",
   "execution_count": 19,
   "id": "670d23d9-1467-4bc9-8a9c-7312ee75fe32",
   "metadata": {},
   "outputs": [
    {
     "data": {
      "text/plain": [
       "'SpidermanSpidermanSpidermanSpidermanSpidermanSpidermanSpidermanSpidermanSpidermanSpidermanSpidermanSpidermanSpidermanSpidermanSpidermanSpidermanSpidermanSpidermanSpidermanSpidermanSpidermanSpidermanSpidermanSpidermanSpidermanSpidermanSpidermanSpidermanSpidermanSpidermanSpidermanSpidermanSpidermanSpidermanSpidermanSpidermanSpidermanSpidermanSpidermanSpidermanSpidermanSpidermanSpidermanSpidermanSpidermanSpidermanSpidermanSpidermanSpidermanSpidermanSpidermanSpidermanSpidermanSpidermanSpidermanSpidermanSpidermanSpidermanSpidermanSpidermanSpidermanSpidermanSpidermanSpidermanSpidermanSpidermanSpidermanSpidermanSpidermanSpidermanSpidermanSpidermanSpidermanSpidermanSpidermanSpidermanSpidermanSpidermanSpidermanSpidermanSpidermanSpidermanSpidermanSpidermanSpidermanSpidermanSpidermanSpidermanSpidermanSpidermanSpidermanSpidermanSpidermanSpidermanSpidermanSpidermanSpidermanSpidermanSpidermanSpiderman'"
      ]
     },
     "execution_count": 19,
     "metadata": {},
     "output_type": "execute_result"
    }
   ],
   "source": [
    "# Bonus Task\n",
    "(a + b) * 100"
   ]
  },
  {
   "cell_type": "markdown",
   "id": "d9d91228-35ee-4ec8-a696-0c8bdd786cb4",
   "metadata": {},
   "source": [
    "## 10. Construct 2 short sentences made of separate strings."
   ]
  },
  {
   "cell_type": "code",
   "execution_count": 37,
   "id": "6d33d75f-68ce-40e3-be32-5c1f0f8f2a31",
   "metadata": {},
   "outputs": [],
   "source": [
    "# 10. Construct 2 short sentences made of separate strings\n",
    "c = 'There was'"
   ]
  },
  {
   "cell_type": "code",
   "execution_count": 32,
   "id": "5c5315d7-9f8a-4388-adcf-1bfbdbf2990c",
   "metadata": {},
   "outputs": [],
   "source": [
    "d = ' an old woman'"
   ]
  },
  {
   "cell_type": "code",
   "execution_count": 34,
   "id": "0a5f47d4-5be8-42bc-8b12-ca33d61b9bec",
   "metadata": {},
   "outputs": [],
   "source": [
    "e = ' who lived in a shoe.'"
   ]
  },
  {
   "cell_type": "code",
   "execution_count": 35,
   "id": "c68e661e-35de-40e9-9373-fed802ee150b",
   "metadata": {},
   "outputs": [],
   "source": [
    "f = ' She had so many children,'"
   ]
  },
  {
   "cell_type": "code",
   "execution_count": 30,
   "id": "3f1d150a-6a77-4d8e-aa1c-4c824d35c29b",
   "metadata": {},
   "outputs": [],
   "source": [
    "g = ' she did not know what to do.'"
   ]
  },
  {
   "cell_type": "code",
   "execution_count": 38,
   "id": "eb7bd08f-27a1-40bc-a447-e39b801de469",
   "metadata": {},
   "outputs": [
    {
     "data": {
      "text/plain": [
       "'There was an old woman who lived in a shoe. She had so many children, she did not know what to do.'"
      ]
     },
     "execution_count": 38,
     "metadata": {},
     "output_type": "execute_result"
    }
   ],
   "source": [
    "c + d + e + f + g"
   ]
  },
  {
   "cell_type": "code",
   "execution_count": 42,
   "id": "98bc2a1c-e695-48b0-9202-a1ff019f889d",
   "metadata": {},
   "outputs": [],
   "source": [
    "h = ' the '"
   ]
  },
  {
   "cell_type": "code",
   "execution_count": 43,
   "id": "c0307243-317f-44fc-843f-797f441ee317",
   "metadata": {},
   "outputs": [],
   "source": [
    "i = 'dog '"
   ]
  },
  {
   "cell_type": "code",
   "execution_count": 45,
   "id": "7b954583-d027-4bec-a70f-2a09f3472bab",
   "metadata": {},
   "outputs": [],
   "source": [
    "j = 'saw '"
   ]
  },
  {
   "cell_type": "code",
   "execution_count": 46,
   "id": "21beb490-e44e-4812-b00b-80266133e210",
   "metadata": {},
   "outputs": [],
   "source": [
    "k = 'and '"
   ]
  },
  {
   "cell_type": "code",
   "execution_count": 47,
   "id": "c5a3f28a-ff13-4288-85a1-b1167de8bc38",
   "metadata": {},
   "outputs": [],
   "source": [
    "l = 'barked '"
   ]
  },
  {
   "cell_type": "code",
   "execution_count": 48,
   "id": "fcb8aa5d-f2c1-47fc-be4c-243456dfcd36",
   "metadata": {},
   "outputs": [],
   "source": [
    "m = 'at '"
   ]
  },
  {
   "cell_type": "code",
   "execution_count": 49,
   "id": "fecf8e69-baab-4b03-b9e0-4a49d80a50fe",
   "metadata": {},
   "outputs": [
    {
     "data": {
      "text/plain": [
       "' the dog saw  the dog and  the dog barked at  the dog '"
      ]
     },
     "execution_count": 49,
     "metadata": {},
     "output_type": "execute_result"
    }
   ],
   "source": [
    "h + i + j + h + i + k + h + i + l + m + h + i"
   ]
  }
 ],
 "metadata": {
  "kernelspec": {
   "display_name": "Python [conda env:base] *",
   "language": "python",
   "name": "conda-base-py"
  },
  "language_info": {
   "codemirror_mode": {
    "name": "ipython",
    "version": 3
   },
   "file_extension": ".py",
   "mimetype": "text/x-python",
   "name": "python",
   "nbconvert_exporter": "python",
   "pygments_lexer": "ipython3",
   "version": "3.12.7"
  }
 },
 "nbformat": 4,
 "nbformat_minor": 5
}
